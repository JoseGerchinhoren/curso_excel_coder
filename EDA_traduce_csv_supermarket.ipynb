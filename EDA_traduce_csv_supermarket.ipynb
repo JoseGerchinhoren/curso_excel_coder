{
 "cells": [
  {
   "cell_type": "code",
   "execution_count": 1,
   "metadata": {},
   "outputs": [
    {
     "name": "stdout",
     "output_type": "stream",
     "text": [
      "['Invoice ID', 'Branch', 'City', 'Customer type', 'Gender', 'Product line', 'Unit price', 'Quantity', 'Tax 5%', 'Total', 'Date', 'Time', 'Payment', 'cogs', 'gross margin percentage', 'gross income', 'Rating']\n"
     ]
    }
   ],
   "source": [
    "import pandas as pd\n",
    "\n",
    "archivo_csv = 'supermarket_sales - Sheet1.csv'\n",
    "\n",
    "# Cargar el conjunto de datos en un DataFrame\n",
    "data = pd.read_csv(archivo_csv)\n",
    "\n",
    "# Obtener una lista con los nombres de las columnas\n",
    "nombres_columnas = data.columns.tolist()\n",
    "\n",
    "# Imprimir la lista de nombres de las columnas\n",
    "print(nombres_columnas)\n"
   ]
  },
  {
   "cell_type": "code",
   "execution_count": 2,
   "metadata": {},
   "outputs": [
    {
     "name": "stdout",
     "output_type": "stream",
     "text": [
      "  Número de factura Sucursal     Ciudad Tipo de cliente  Género  \\\n",
      "0       750-67-8428        A     Yangon          Member  Female   \n",
      "1       226-31-3081        C  Naypyitaw          Normal  Female   \n",
      "2       631-41-3108        A     Yangon          Normal    Male   \n",
      "3       123-19-1176        A     Yangon          Member    Male   \n",
      "4       373-73-7910        A     Yangon          Normal    Male   \n",
      "\n",
      "        Línea de producto  Precio unitario  Cantidad  Impuesto 5%     Total  \\\n",
      "0       Health and beauty            74.69         7      26.1415  548.9715   \n",
      "1  Electronic accessories            15.28         5       3.8200   80.2200   \n",
      "2      Home and lifestyle            46.33         7      16.2155  340.5255   \n",
      "3       Health and beauty            58.22         8      23.2880  489.0480   \n",
      "4       Sports and travel            86.31         7      30.2085  634.3785   \n",
      "\n",
      "       Fecha   Hora Método de pago  Costo de bienes vendidos  \\\n",
      "0   1/5/2019  13:08        Ewallet                    522.83   \n",
      "1   3/8/2019  10:29           Cash                     76.40   \n",
      "2   3/3/2019  13:23    Credit card                    324.31   \n",
      "3  1/27/2019  20:33        Ewallet                    465.76   \n",
      "4   2/8/2019  10:37        Ewallet                    604.17   \n",
      "\n",
      "   Porcentaje de margen bruto  Ingreso bruto  Calificación  \n",
      "0                    4.761905        26.1415           9.1  \n",
      "1                    4.761905         3.8200           9.6  \n",
      "2                    4.761905        16.2155           7.4  \n",
      "3                    4.761905        23.2880           8.4  \n",
      "4                    4.761905        30.2085           5.3  \n"
     ]
    }
   ],
   "source": [
    "# Nombres de las columnas originales en inglés\n",
    "nombres_columnas_ingles = ['Invoice ID', 'Branch', 'City', 'Customer type', 'Gender', 'Product line', 'Unit price', 'Quantity', 'Tax 5%', 'Total', 'Date', 'Time', 'Payment', 'cogs', 'gross margin percentage', 'gross income', 'Rating']\n",
    "\n",
    "# Traducción de los nombres de las columnas al español\n",
    "nombres_columnas_espanol = ['Número de factura', 'Sucursal', 'Ciudad', 'Tipo de cliente', 'Género', 'Línea de producto', 'Precio unitario', 'Cantidad', 'Impuesto 5%', 'Total', 'Fecha', 'Hora', 'Método de pago', 'Costo de bienes vendidos', 'Porcentaje de margen bruto', 'Ingreso bruto', 'Calificación']\n",
    "\n",
    "# Cambiar los nombres de las columnas en el DataFrame\n",
    "data.rename(columns=dict(zip(nombres_columnas_ingles, nombres_columnas_espanol)), inplace=True)\n",
    "\n",
    "# Imprimir las primeras filas del DataFrame para verificar los cambios\n",
    "print(data.head())"
   ]
  },
  {
   "cell_type": "markdown",
   "metadata": {},
   "source": [
    "Información del atributo\n",
    "ID de factura: número de identificación de factura del comprobante de venta generado por computadora.\n",
    "\n",
    "Sucursal: Sucursal del supercentro (hay 3 sucursales disponibles identificadas por A, B y C).\n",
    "\n",
    "Ciudad: Ubicación de los supercentros.\n",
    "\n",
    "Tipo de cliente: Tipo de clientes, registrado por Socios para clientes con tarjeta de socio y Normal para sin tarjeta de socio.\n",
    "\n",
    "Género: Tipo de género del cliente.\n",
    "\n",
    "Línea de productos: Grupos generales de categorización de artículos: accesorios electrónicos, accesorios de moda, alimentos y bebidas, salud y belleza, hogar y estilo de vida, deportes y viajes.\n",
    "\n",
    "Precio unitario: Precio de cada producto en $.\n",
    "\n",
    "Cantidad: Número de productos comprados por el cliente.\n",
    "\n",
    "Impuesto: 5 % de tasa de impuesto para la compra del cliente.\n",
    "\n",
    "Total: Precio total con impuestos.\n",
    "\n",
    "Fecha: Fecha de compra (Registro disponible desde enero de 2019 a marzo de 2019).\n",
    "\n",
    "Hora: Hora de compra (de 10 a 21 horas).\n",
    "\n",
    "Pago: pago utilizado por el cliente para la compra (hay 3 métodos disponibles: efectivo, tarjeta de crédito y billetera electrónica).\n",
    "\n",
    "COGS: Costo de los bienes vendidos.\n",
    "\n",
    "Porcentaje de margen bruto: Porcentaje de margen bruto.\n",
    "\n",
    "Ingresos brutos: Ingresos brutos.\n",
    "\n",
    "Calificación: calificación de estratificación del cliente sobre su experiencia de compra general (en una escala del 1 al 10)"
   ]
  },
  {
   "cell_type": "code",
   "execution_count": 3,
   "metadata": {},
   "outputs": [
    {
     "name": "stdout",
     "output_type": "stream",
     "text": [
      "<class 'pandas.core.frame.DataFrame'>\n",
      "RangeIndex: 1000 entries, 0 to 999\n",
      "Data columns (total 17 columns):\n",
      " #   Column                      Non-Null Count  Dtype  \n",
      "---  ------                      --------------  -----  \n",
      " 0   Número de factura           1000 non-null   object \n",
      " 1   Sucursal                    1000 non-null   object \n",
      " 2   Ciudad                      1000 non-null   object \n",
      " 3   Tipo de cliente             1000 non-null   object \n",
      " 4   Género                      1000 non-null   object \n",
      " 5   Línea de producto           1000 non-null   object \n",
      " 6   Precio unitario             1000 non-null   float64\n",
      " 7   Cantidad                    1000 non-null   int64  \n",
      " 8   Impuesto 5%                 1000 non-null   float64\n",
      " 9   Total                       1000 non-null   float64\n",
      " 10  Fecha                       1000 non-null   object \n",
      " 11  Hora                        1000 non-null   object \n",
      " 12  Método de pago              1000 non-null   object \n",
      " 13  Costo de bienes vendidos    1000 non-null   float64\n",
      " 14  Porcentaje de margen bruto  1000 non-null   float64\n",
      " 15  Ingreso bruto               1000 non-null   float64\n",
      " 16  Calificación                1000 non-null   float64\n",
      "dtypes: float64(7), int64(1), object(9)\n",
      "memory usage: 132.9+ KB\n",
      "None\n"
     ]
    }
   ],
   "source": [
    "# Obtener información general sobre el conjunto de datos\n",
    "print(data.info())\n"
   ]
  },
  {
   "cell_type": "code",
   "execution_count": 4,
   "metadata": {},
   "outputs": [
    {
     "name": "stdout",
     "output_type": "stream",
     "text": [
      "       Precio unitario     Cantidad  Impuesto 5%        Total  \\\n",
      "count      1000.000000  1000.000000  1000.000000  1000.000000   \n",
      "mean         55.672130     5.510000    15.379369   322.966749   \n",
      "std          26.494628     2.923431    11.708825   245.885335   \n",
      "min          10.080000     1.000000     0.508500    10.678500   \n",
      "25%          32.875000     3.000000     5.924875   124.422375   \n",
      "50%          55.230000     5.000000    12.088000   253.848000   \n",
      "75%          77.935000     8.000000    22.445250   471.350250   \n",
      "max          99.960000    10.000000    49.650000  1042.650000   \n",
      "\n",
      "       Costo de bienes vendidos  Porcentaje de margen bruto  Ingreso bruto  \\\n",
      "count                1000.00000                 1000.000000    1000.000000   \n",
      "mean                  307.58738                    4.761905      15.379369   \n",
      "std                   234.17651                    0.000000      11.708825   \n",
      "min                    10.17000                    4.761905       0.508500   \n",
      "25%                   118.49750                    4.761905       5.924875   \n",
      "50%                   241.76000                    4.761905      12.088000   \n",
      "75%                   448.90500                    4.761905      22.445250   \n",
      "max                   993.00000                    4.761905      49.650000   \n",
      "\n",
      "       Calificación  \n",
      "count    1000.00000  \n",
      "mean        6.97270  \n",
      "std         1.71858  \n",
      "min         4.00000  \n",
      "25%         5.50000  \n",
      "50%         7.00000  \n",
      "75%         8.50000  \n",
      "max        10.00000  \n"
     ]
    }
   ],
   "source": [
    "# Estadísticas descriptivas para columnas numéricas\n",
    "print(data.describe())"
   ]
  },
  {
   "cell_type": "code",
   "execution_count": 5,
   "metadata": {},
   "outputs": [
    {
     "name": "stdout",
     "output_type": "stream",
     "text": [
      "Valores únicos para Tipo de cliente: ['Member' 'Normal']\n",
      "Valores únicos para Género: ['Female' 'Male']\n",
      "Valores únicos para Línea de producto: ['Health and beauty' 'Electronic accessories' 'Home and lifestyle'\n",
      " 'Sports and travel' 'Food and beverages' 'Fashion accessories']\n",
      "Valores únicos para Método de pago: ['Ewallet' 'Cash' 'Credit card']\n"
     ]
    }
   ],
   "source": [
    "# Valores únicos para la columna 'Tipo de cliente'\n",
    "valores_tipo_cliente = data['Tipo de cliente'].unique()\n",
    "print(f'Valores únicos para Tipo de cliente: {valores_tipo_cliente}')\n",
    "\n",
    "# Valores únicos para la columna 'Género'\n",
    "valores_genero = data['Género'].unique()\n",
    "print(f'Valores únicos para Género: {valores_genero}')\n",
    "\n",
    "# Valores únicos para la columna 'Línea de producto'\n",
    "valores_linea_producto = data['Línea de producto'].unique()\n",
    "print(f'Valores únicos para Línea de producto: {valores_linea_producto}')\n",
    "\n",
    "# Valores únicos para la columna 'Método de pago'\n",
    "valores_metodo_pago = data['Método de pago'].unique()\n",
    "print(f'Valores únicos para Método de pago: {valores_metodo_pago}')"
   ]
  },
  {
   "cell_type": "code",
   "execution_count": 6,
   "metadata": {},
   "outputs": [
    {
     "name": "stdout",
     "output_type": "stream",
     "text": [
      "  Número de factura Sucursal     Ciudad Tipo de cliente     Género  \\\n",
      "0       750-67-8428        A     Yangon         Miembro   Femenino   \n",
      "1       226-31-3081        C  Naypyitaw          Normal   Femenino   \n",
      "2       631-41-3108        A     Yangon          Normal  Masculino   \n",
      "3       123-19-1176        A     Yangon         Miembro  Masculino   \n",
      "4       373-73-7910        A     Yangon          Normal  Masculino   \n",
      "\n",
      "         Línea de producto  Precio unitario  Cantidad  Impuesto 5%     Total  \\\n",
      "0          Salud y belleza            74.69         7      26.1415  548.9715   \n",
      "1  Accesorios electrónicos            15.28         5       3.8200   80.2200   \n",
      "2   Hogar y estilo de vida            46.33         7      16.2155  340.5255   \n",
      "3          Salud y belleza            58.22         8      23.2880  489.0480   \n",
      "4        Deportes y viajes            86.31         7      30.2085  634.3785   \n",
      "\n",
      "       Fecha   Hora         Método de pago  Costo de bienes vendidos  \\\n",
      "0   1/5/2019  13:08  Billetera electrónica                    522.83   \n",
      "1   3/8/2019  10:29               Efectivo                     76.40   \n",
      "2   3/3/2019  13:23     Tarjeta de crédito                    324.31   \n",
      "3  1/27/2019  20:33  Billetera electrónica                    465.76   \n",
      "4   2/8/2019  10:37  Billetera electrónica                    604.17   \n",
      "\n",
      "   Porcentaje de margen bruto  Ingreso bruto  Calificación  \n",
      "0                    4.761905        26.1415           9.1  \n",
      "1                    4.761905         3.8200           9.6  \n",
      "2                    4.761905        16.2155           7.4  \n",
      "3                    4.761905        23.2880           8.4  \n",
      "4                    4.761905        30.2085           5.3  \n"
     ]
    }
   ],
   "source": [
    "# Definir diccionarios de traducción\n",
    "traduccion_tipo_cliente = {'Member': 'Miembro', 'Normal': 'Normal'}\n",
    "traduccion_genero = {'Female': 'Femenino', 'Male': 'Masculino'}\n",
    "traduccion_linea_producto = {\n",
    "    'Health and beauty': 'Salud y belleza',\n",
    "    'Electronic accessories': 'Accesorios electrónicos',\n",
    "    'Home and lifestyle': 'Hogar y estilo de vida',\n",
    "    'Sports and travel': 'Deportes y viajes',\n",
    "    'Food and beverages': 'Alimentos y bebidas',\n",
    "    'Fashion accessories': 'Accesorios de moda'\n",
    "}\n",
    "traduccion_metodo_pago = {'Ewallet': 'Billetera electrónica', 'Cash': 'Efectivo', 'Credit card': 'Tarjeta de crédito'}\n",
    "\n",
    "# Aplicar la traducción directamente a las columnas del DataFrame\n",
    "data['Tipo de cliente'] = data['Tipo de cliente'].map(traduccion_tipo_cliente).fillna(data['Tipo de cliente'])\n",
    "data['Género'] = data['Género'].map(traduccion_genero).fillna(data['Género'])\n",
    "data['Línea de producto'] = data['Línea de producto'].map(traduccion_linea_producto).fillna(data['Línea de producto'])\n",
    "data['Método de pago'] = data['Método de pago'].map(traduccion_metodo_pago).fillna(data['Método de pago'])\n",
    "\n",
    "# Imprimir las primeras filas del DataFrame para verificar los cambios\n",
    "print(data.head())"
   ]
  },
  {
   "cell_type": "code",
   "execution_count": 7,
   "metadata": {},
   "outputs": [],
   "source": [
    "import numpy as np\n",
    "\n",
    "# Número deseado de filas después de la generación\n",
    "nuevas_filas_deseadas = 4000\n",
    "\n",
    "# Número de filas originales\n",
    "filas_originales = len(data)\n",
    "\n",
    "# Calcular cuántas filas adicionales necesitas generar\n",
    "filas_a_generar = nuevas_filas_deseadas - filas_originales\n",
    "\n",
    "# Generar nuevas filas aleatorias basadas en las existentes y cambiar el 'Número de factura'\n",
    "for _ in range(filas_a_generar):\n",
    "    indice_fila_existente = np.random.randint(filas_originales)\n",
    "    nueva_fila = data.iloc[indice_fila_existente].copy()  # Copiar la fila existente\n",
    "    nueva_fila['Número de factura'] = 'NuevaFactura' + str(np.random.randint(1000, 9999))  # Modificar el número de factura\n",
    "    data = pd.concat([data, pd.DataFrame([nueva_fila])], ignore_index=True)\n"
   ]
  },
  {
   "cell_type": "code",
   "execution_count": 8,
   "metadata": {},
   "outputs": [
    {
     "name": "stdout",
     "output_type": "stream",
     "text": [
      "  Número de factura Sucursal     Ciudad Tipo de cliente     Género  \\\n",
      "0       750-67-8428        A     Yangon         Miembro   Femenino   \n",
      "1       226-31-3081        C  Naypyitaw          Normal   Femenino   \n",
      "2       631-41-3108        A     Yangon          Normal  Masculino   \n",
      "3       123-19-1176        A     Yangon         Miembro  Masculino   \n",
      "4       373-73-7910        A     Yangon          Normal  Masculino   \n",
      "\n",
      "         Línea de producto Precio unitario  Cantidad Impuesto 5%     Total  \\\n",
      "0          Salud y belleza           74,69         7     26,1415  548,9715   \n",
      "1  Accesorios electrónicos           15,28         5        3,82     80,22   \n",
      "2   Hogar y estilo de vida           46,33         7     16,2155  340,5255   \n",
      "3          Salud y belleza           58,22         8      23,288   489,048   \n",
      "4        Deportes y viajes           86,31         7     30,2085  634,3785   \n",
      "\n",
      "       Fecha   Hora         Método de pago Costo de bienes vendidos  \\\n",
      "0   1/5/2019  13:08  Billetera electrónica                   522,83   \n",
      "1   3/8/2019  10:29               Efectivo                     76,4   \n",
      "2   3/3/2019  13:23     Tarjeta de crédito                   324,31   \n",
      "3  1/27/2019  20:33  Billetera electrónica                   465,76   \n",
      "4   2/8/2019  10:37  Billetera electrónica                   604,17   \n",
      "\n",
      "  Porcentaje de margen bruto Ingreso bruto Calificación  \n",
      "0                4,761904762       26,1415          9,1  \n",
      "1                4,761904762          3,82          9,6  \n",
      "2                4,761904762       16,2155          7,4  \n",
      "3                4,761904762        23,288          8,4  \n",
      "4                4,761904762       30,2085          5,3  \n"
     ]
    }
   ],
   "source": [
    "# Columnas a las que quieres cambiar el punto por coma\n",
    "columnas_a_modificar = ['Precio unitario', 'Impuesto 5%', 'Total', 'Costo de bienes vendidos', 'Porcentaje de margen bruto', 'Ingreso bruto', 'Calificación']\n",
    "\n",
    "# Cambiar punto por coma solo en las columnas de tipo cadena\n",
    "data[columnas_a_modificar] = data[columnas_a_modificar].astype(str).apply(lambda x: x.str.replace('.', ','))\n",
    "\n",
    "# Imprimir las primeras filas del DataFrame para verificar los cambios\n",
    "print(data.head())"
   ]
  },
  {
   "cell_type": "code",
   "execution_count": 9,
   "metadata": {},
   "outputs": [
    {
     "name": "stdout",
     "output_type": "stream",
     "text": [
      "     Número de factura Sucursal     Ciudad Tipo de cliente     Género  \\\n",
      "0          750-67-8428        A     Yangon         Miembro   Femenino   \n",
      "1          226-31-3081        C  Naypyitaw          Normal   Femenino   \n",
      "2          631-41-3108        A     Yangon          Normal  Masculino   \n",
      "3          123-19-1176        A     Yangon         Miembro  Masculino   \n",
      "4          373-73-7910        A     Yangon          Normal  Masculino   \n",
      "...                ...      ...        ...             ...        ...   \n",
      "3995  NuevaFactura1442        A     Yangon         Miembro  Masculino   \n",
      "3996  NuevaFactura9176        A     Yangon          Normal  Masculino   \n",
      "3997  NuevaFactura1540        C  Naypyitaw         Miembro   Femenino   \n",
      "3998  NuevaFactura9066        C  Naypyitaw          Normal   Femenino   \n",
      "3999  NuevaFactura2365        C  Naypyitaw         Miembro  Masculino   \n",
      "\n",
      "            Línea de producto Precio unitario  Cantidad Impuesto 5%     Total  \\\n",
      "0             Salud y belleza           74,69         7     26,1415  548,9715   \n",
      "1     Accesorios electrónicos           15,28         5        3,82     80,22   \n",
      "2      Hogar y estilo de vida           46,33         7     16,2155  340,5255   \n",
      "3             Salud y belleza           58,22         8      23,288   489,048   \n",
      "4           Deportes y viajes           86,31         7     30,2085  634,3785   \n",
      "...                       ...             ...       ...         ...       ...   \n",
      "3995  Accesorios electrónicos           32,25         4        6,45    135,45   \n",
      "3996      Alimentos y bebidas           45,79         7     16,0265  336,5565   \n",
      "3997        Deportes y viajes           24,74         3       3,711    77,931   \n",
      "3998          Salud y belleza           10,99         5      2,7475   57,6975   \n",
      "3999      Alimentos y bebidas           94,26         4      18,852   395,892   \n",
      "\n",
      "           Fecha   Hora         Método de pago Costo de bienes vendidos  \\\n",
      "0     05/01/2019  13:08  Billetera electrónica                   522,83   \n",
      "1     08/03/2019  10:29               Efectivo                     76,4   \n",
      "2     03/03/2019  13:23     Tarjeta de crédito                   324,31   \n",
      "3     27/01/2019  20:33  Billetera electrónica                   465,76   \n",
      "4     08/02/2019  10:37  Billetera electrónica                   604,17   \n",
      "...          ...    ...                    ...                      ...   \n",
      "3995  13/02/2019  12:38  Billetera electrónica                    129,0   \n",
      "3996  13/03/2019  19:44     Tarjeta de crédito                   320,53   \n",
      "3997  15/02/2019  17:47     Tarjeta de crédito                    74,22   \n",
      "3998  23/01/2019  10:18     Tarjeta de crédito                    54,95   \n",
      "3999  12/03/2019  16:30               Efectivo                   377,04   \n",
      "\n",
      "     Porcentaje de margen bruto Ingreso bruto Calificación  \n",
      "0                   4,761904762       26,1415          9,1  \n",
      "1                   4,761904762          3,82          9,6  \n",
      "2                   4,761904762       16,2155          7,4  \n",
      "3                   4,761904762        23,288          8,4  \n",
      "4                   4,761904762       30,2085          5,3  \n",
      "...                         ...           ...          ...  \n",
      "3995                4,761904762          6,45          6,5  \n",
      "3996                4,761904762       16,0265          7,0  \n",
      "3997                4,761904762         3,711         10,0  \n",
      "3998                4,761904762        2,7475          9,3  \n",
      "3999                4,761904762        18,852          8,6  \n",
      "\n",
      "[4000 rows x 17 columns]\n"
     ]
    }
   ],
   "source": [
    "# Convertir la columna 'Fecha' al tipo de dato datetime\n",
    "data['Fecha'] = pd.to_datetime(data['Fecha'], format='%m/%d/%Y')\n",
    "\n",
    "# Crear una nueva columna con el formato deseado\n",
    "data['Fecha'] = data['Fecha'].dt.strftime('%d/%m/%Y')\n",
    "\n",
    "# Visualizar el DataFrame con la nueva columna\n",
    "print(data)"
   ]
  },
  {
   "cell_type": "code",
   "execution_count": 10,
   "metadata": {},
   "outputs": [
    {
     "name": "stdout",
     "output_type": "stream",
     "text": [
      "     Número de factura Sucursal     Ciudad Tipo de cliente     Género  \\\n",
      "0          750-67-8428        A     Yangon         Miembro   Femenino   \n",
      "1          226-31-3081        C  Naypyitaw          Normal   Femenino   \n",
      "2          631-41-3108        A     Yangon          Normal  Masculino   \n",
      "3          123-19-1176        A     Yangon         Miembro  Masculino   \n",
      "4          373-73-7910        A     Yangon          Normal  Masculino   \n",
      "...                ...      ...        ...             ...        ...   \n",
      "3995  NuevaFactura1442        A     Yangon         Miembro  Masculino   \n",
      "3996  NuevaFactura9176        A     Yangon          Normal  Masculino   \n",
      "3997  NuevaFactura1540        C  Naypyitaw         Miembro   Femenino   \n",
      "3998  NuevaFactura9066        C  Naypyitaw          Normal   Femenino   \n",
      "3999  NuevaFactura2365        C  Naypyitaw         Miembro  Masculino   \n",
      "\n",
      "            Línea de producto Precio unitario  Cantidad Impuesto 5%     Total  \\\n",
      "0             Salud y belleza           74,69         7     26,1415  548,9715   \n",
      "1     Accesorios electrónicos           15,28         5        3,82     80,22   \n",
      "2      Hogar y estilo de vida           46,33         7     16,2155  340,5255   \n",
      "3             Salud y belleza           58,22         8      23,288   489,048   \n",
      "4           Deportes y viajes           86,31         7     30,2085  634,3785   \n",
      "...                       ...             ...       ...         ...       ...   \n",
      "3995  Accesorios electrónicos           32,25         4        6,45    135,45   \n",
      "3996      Alimentos y bebidas           45,79         7     16,0265  336,5565   \n",
      "3997        Deportes y viajes           24,74         3       3,711    77,931   \n",
      "3998          Salud y belleza           10,99         5      2,7475   57,6975   \n",
      "3999      Alimentos y bebidas           94,26         4      18,852   395,892   \n",
      "\n",
      "           Fecha   Hora         Método de pago Costo de bienes vendidos  \\\n",
      "0     05/01/2019  13:08  Billetera electrónica                   522,83   \n",
      "1     08/03/2019  10:29               Efectivo                     76,4   \n",
      "2     03/03/2019  13:23     Tarjeta de crédito                   324,31   \n",
      "3     27/01/2019  20:33  Billetera electrónica                   465,76   \n",
      "4     08/02/2019  10:37  Billetera electrónica                   604,17   \n",
      "...          ...    ...                    ...                      ...   \n",
      "3995  13/02/2019  12:38  Billetera electrónica                    129,0   \n",
      "3996  13/03/2019  19:44     Tarjeta de crédito                   320,53   \n",
      "3997  15/02/2019  17:47     Tarjeta de crédito                    74,22   \n",
      "3998  23/01/2019  10:18     Tarjeta de crédito                    54,95   \n",
      "3999  12/03/2019  16:30               Efectivo                   377,04   \n",
      "\n",
      "     Porcentaje de margen bruto Ingreso bruto Calificación  \n",
      "0                   4,761904762       26,1415          9,1  \n",
      "1                   4,761904762          3,82          9,6  \n",
      "2                   4,761904762       16,2155          7,4  \n",
      "3                   4,761904762        23,288          8,4  \n",
      "4                   4,761904762       30,2085          5,3  \n",
      "...                         ...           ...          ...  \n",
      "3995                4,761904762          6,45          6,5  \n",
      "3996                4,761904762       16,0265          7,0  \n",
      "3997                4,761904762         3,711         10,0  \n",
      "3998                4,761904762        2,7475          9,3  \n",
      "3999                4,761904762        18,852          8,6  \n",
      "\n",
      "[4000 rows x 17 columns]\n"
     ]
    }
   ],
   "source": [
    "# Guardar el DataFrame aumentado en un nuevo archivo CSV con codificación 'latin-1'\n",
    "data.to_csv('supermercado.csv', index=False, encoding='latin-1')\n",
    "\n",
    "print(data)"
   ]
  }
 ],
 "metadata": {
  "kernelspec": {
   "display_name": "Python 3",
   "language": "python",
   "name": "python3"
  },
  "language_info": {
   "codemirror_mode": {
    "name": "ipython",
    "version": 3
   },
   "file_extension": ".py",
   "mimetype": "text/x-python",
   "name": "python",
   "nbconvert_exporter": "python",
   "pygments_lexer": "ipython3",
   "version": "3.11.1"
  }
 },
 "nbformat": 4,
 "nbformat_minor": 2
}
